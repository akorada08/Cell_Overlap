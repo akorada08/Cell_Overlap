{
 "cells": [
  {
   "cell_type": "code",
   "execution_count": 3,
   "id": "58bfd829-9d83-42cc-ace2-677e71409c7a",
   "metadata": {},
   "outputs": [
    {
     "ename": "JVMNotFoundException",
     "evalue": "No JVM shared library file (jvm.dll) found. Try setting up the JAVA_HOME environment variable properly.",
     "output_type": "error",
     "traceback": [
      "\u001b[1;31m---------------------------------------------------------------------------\u001b[0m",
      "\u001b[1;31mJVMNotFoundException\u001b[0m                      Traceback (most recent call last)",
      "Cell \u001b[1;32mIn[3], line 4\u001b[0m\n\u001b[0;32m      1\u001b[0m \u001b[38;5;28;01mimport\u001b[39;00m \u001b[38;5;21;01mimagej\u001b[39;00m\n\u001b[0;32m      3\u001b[0m \u001b[38;5;66;03m# initialize ImageJ\u001b[39;00m\n\u001b[1;32m----> 4\u001b[0m ij \u001b[38;5;241m=\u001b[39m imagej\u001b[38;5;241m.\u001b[39minit(\u001b[38;5;124m'\u001b[39m\u001b[38;5;124msc.fiji:fiji:2.14.0\u001b[39m\u001b[38;5;124m'\u001b[39m)\n\u001b[0;32m      5\u001b[0m \u001b[38;5;28mprint\u001b[39m(\u001b[38;5;124mf\u001b[39m\u001b[38;5;124m\"\u001b[39m\u001b[38;5;124mImageJ version: \u001b[39m\u001b[38;5;132;01m{\u001b[39;00mij\u001b[38;5;241m.\u001b[39mgetVersion()\u001b[38;5;132;01m}\u001b[39;00m\u001b[38;5;124m\"\u001b[39m)\n",
      "File \u001b[1;32m~\\AppData\\Local\\anaconda3\\Lib\\site-packages\\imagej\\__init__.py:1211\u001b[0m, in \u001b[0;36minit\u001b[1;34m(ij_dir_or_version_or_endpoint, mode, add_legacy, headless)\u001b[0m\n\u001b[0;32m   1208\u001b[0m     \u001b[38;5;28;01mraise\u001b[39;00m \u001b[38;5;167;01mEnvironmentError\u001b[39;00m(\u001b[38;5;124m\"\u001b[39m\u001b[38;5;124mSorry, the interactive mode is not available on macOS.\u001b[39m\u001b[38;5;124m\"\u001b[39m)\n\u001b[0;32m   1210\u001b[0m \u001b[38;5;28;01mif\u001b[39;00m \u001b[38;5;129;01mnot\u001b[39;00m sj\u001b[38;5;241m.\u001b[39mjvm_started():\n\u001b[1;32m-> 1211\u001b[0m     success \u001b[38;5;241m=\u001b[39m _create_jvm(ij_dir_or_version_or_endpoint, mode, add_legacy)\n\u001b[0;32m   1212\u001b[0m     \u001b[38;5;28;01mif\u001b[39;00m \u001b[38;5;129;01mnot\u001b[39;00m success:\n\u001b[0;32m   1213\u001b[0m         \u001b[38;5;28;01mraise\u001b[39;00m \u001b[38;5;167;01mRuntimeError\u001b[39;00m(\u001b[38;5;124m\"\u001b[39m\u001b[38;5;124mFailed to create a JVM with the requested environment.\u001b[39m\u001b[38;5;124m\"\u001b[39m)\n",
      "File \u001b[1;32m~\\AppData\\Local\\anaconda3\\Lib\\site-packages\\imagej\\__init__.py:1312\u001b[0m, in \u001b[0;36m_create_jvm\u001b[1;34m(ij_dir_or_version_or_endpoint, mode, add_legacy)\u001b[0m\n\u001b[0;32m   1310\u001b[0m     sj\u001b[38;5;241m.\u001b[39mconfig\u001b[38;5;241m.\u001b[39madd_option(\u001b[38;5;124m\"\u001b[39m\u001b[38;5;124m-Djava.awt.headless=true\u001b[39m\u001b[38;5;124m\"\u001b[39m)\n\u001b[0;32m   1311\u001b[0m \u001b[38;5;28;01mtry\u001b[39;00m:\n\u001b[1;32m-> 1312\u001b[0m     \u001b[38;5;28;01mif\u001b[39;00m \u001b[38;5;28mhasattr\u001b[39m(sj, \u001b[38;5;124m\"\u001b[39m\u001b[38;5;124mjvm_version\u001b[39m\u001b[38;5;124m\"\u001b[39m) \u001b[38;5;129;01mand\u001b[39;00m sj\u001b[38;5;241m.\u001b[39mjvm_version()[\u001b[38;5;241m0\u001b[39m] \u001b[38;5;241m>\u001b[39m\u001b[38;5;241m=\u001b[39m \u001b[38;5;241m9\u001b[39m:\n\u001b[0;32m   1313\u001b[0m         \u001b[38;5;66;03m# Disable illegal reflection access warnings.\u001b[39;00m\n\u001b[0;32m   1314\u001b[0m         sj\u001b[38;5;241m.\u001b[39mconfig\u001b[38;5;241m.\u001b[39madd_option(\u001b[38;5;124m\"\u001b[39m\u001b[38;5;124m--add-opens=java.base/java.lang=ALL-UNNAMED\u001b[39m\u001b[38;5;124m\"\u001b[39m)\n\u001b[0;32m   1315\u001b[0m         sj\u001b[38;5;241m.\u001b[39mconfig\u001b[38;5;241m.\u001b[39madd_option(\u001b[38;5;124m\"\u001b[39m\u001b[38;5;124m--add-opens=java.base/java.util=ALL-UNNAMED\u001b[39m\u001b[38;5;124m\"\u001b[39m)\n",
      "File \u001b[1;32m~\\AppData\\Local\\anaconda3\\Lib\\site-packages\\scyjava\\_jvm.py:68\u001b[0m, in \u001b[0;36mjvm_version\u001b[1;34m()\u001b[0m\n\u001b[0;32m     63\u001b[0m     \u001b[38;5;28;01mreturn\u001b[39;00m jvm_version\n\u001b[0;32m     65\u001b[0m \u001b[38;5;66;03m# JPype was clueless, which means the JVM has probably not started yet.\u001b[39;00m\n\u001b[0;32m     66\u001b[0m \u001b[38;5;66;03m# Let's look for a java executable, and ask via 'java -version'.\u001b[39;00m\n\u001b[1;32m---> 68\u001b[0m default_jvm_path \u001b[38;5;241m=\u001b[39m jpype\u001b[38;5;241m.\u001b[39mgetDefaultJVMPath()\n\u001b[0;32m     69\u001b[0m \u001b[38;5;28;01mif\u001b[39;00m \u001b[38;5;129;01mnot\u001b[39;00m default_jvm_path:\n\u001b[0;32m     70\u001b[0m     \u001b[38;5;28;01mraise\u001b[39;00m \u001b[38;5;167;01mRuntimeError\u001b[39;00m(\u001b[38;5;124m\"\u001b[39m\u001b[38;5;124mCannot glean the default JVM path\u001b[39m\u001b[38;5;124m\"\u001b[39m)\n",
      "File \u001b[1;32m~\\AppData\\Local\\anaconda3\\Lib\\site-packages\\jpype\\_jvmfinder.py:74\u001b[0m, in \u001b[0;36mgetDefaultJVMPath\u001b[1;34m()\u001b[0m\n\u001b[0;32m     72\u001b[0m \u001b[38;5;28;01melse\u001b[39;00m:\n\u001b[0;32m     73\u001b[0m     finder \u001b[38;5;241m=\u001b[39m LinuxJVMFinder()\n\u001b[1;32m---> 74\u001b[0m \u001b[38;5;28;01mreturn\u001b[39;00m finder\u001b[38;5;241m.\u001b[39mget_jvm_path()\n",
      "File \u001b[1;32m~\\AppData\\Local\\anaconda3\\Lib\\site-packages\\jpype\\_jvmfinder.py:212\u001b[0m, in \u001b[0;36mJVMFinder.get_jvm_path\u001b[1;34m(self)\u001b[0m\n\u001b[0;32m    210\u001b[0m \u001b[38;5;28;01mif\u001b[39;00m jvm_notsupport_ext \u001b[38;5;129;01mis\u001b[39;00m \u001b[38;5;129;01mnot\u001b[39;00m \u001b[38;5;28;01mNone\u001b[39;00m:\n\u001b[0;32m    211\u001b[0m     \u001b[38;5;28;01mraise\u001b[39;00m jvm_notsupport_ext\n\u001b[1;32m--> 212\u001b[0m \u001b[38;5;28;01mraise\u001b[39;00m JVMNotFoundException(\u001b[38;5;124m\"\u001b[39m\u001b[38;5;124mNo JVM shared library file (\u001b[39m\u001b[38;5;132;01m{0}\u001b[39;00m\u001b[38;5;124m) \u001b[39m\u001b[38;5;124m\"\u001b[39m\n\u001b[0;32m    213\u001b[0m                            \u001b[38;5;124m\"\u001b[39m\u001b[38;5;124mfound. Try setting up the JAVA_HOME \u001b[39m\u001b[38;5;124m\"\u001b[39m\n\u001b[0;32m    214\u001b[0m                            \u001b[38;5;124m\"\u001b[39m\u001b[38;5;124menvironment variable properly.\u001b[39m\u001b[38;5;124m\"\u001b[39m\n\u001b[0;32m    215\u001b[0m                            \u001b[38;5;241m.\u001b[39mformat(\u001b[38;5;28mself\u001b[39m\u001b[38;5;241m.\u001b[39m_libfile))\n",
      "\u001b[1;31mJVMNotFoundException\u001b[0m: No JVM shared library file (jvm.dll) found. Try setting up the JAVA_HOME environment variable properly."
     ]
    }
   ],
   "source": [
    "import imagej\n",
    "\n",
    "# initialize ImageJ\n",
    "ij = imagej.init('sc.fiji:fiji:2.14.0')\n",
    "print(f\"ImageJ version: {ij.getVersion()}\")"
   ]
  },
  {
   "cell_type": "code",
   "execution_count": null,
   "id": "fe5d1f09-ed9d-4f57-8869-19568c6721dd",
   "metadata": {},
   "outputs": [],
   "source": []
  }
 ],
 "metadata": {
  "kernelspec": {
   "display_name": "Python 3 (ipykernel)",
   "language": "python",
   "name": "python3"
  },
  "language_info": {
   "codemirror_mode": {
    "name": "ipython",
    "version": 3
   },
   "file_extension": ".py",
   "mimetype": "text/x-python",
   "name": "python",
   "nbconvert_exporter": "python",
   "pygments_lexer": "ipython3",
   "version": "3.11.7"
  }
 },
 "nbformat": 4,
 "nbformat_minor": 5
}
